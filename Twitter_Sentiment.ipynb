{
 "cells": [
  {
   "cell_type": "code",
   "execution_count": 21,
   "metadata": {
    "collapsed": false,
    "scrolled": false
   },
   "outputs": [],
   "source": [
    "import tweepy\n",
    "from textblob import TextBlob\n",
    "import csv\n",
    "\n",
    "#Twitter Authentication\n",
    "consumer_key=\"your_consumer_key\"\n",
    "consumer_secret=\"your_consumer_secret\"\n",
    "\n",
    "access_token=\"your_access_token\"\n",
    "access_token_secret=\"your_access_toekn_secret\"\n",
    "\n",
    "auth=tweepy.OAuthHandler(consumer_key,consumer_secret)\n",
    "auth.set_access_token(access_token,access_token_secret)\n",
    "\n",
    "api=tweepy.API(auth)\n",
    "\n",
    "\n",
    "#Search tweets according to a keyword\n",
    "tweets=api.search('demonetisation',count=50)\n",
    "\n",
    "\n",
    "#To find whether the tweet is positive or negative\n",
    "def getSentiment(analysis):\n",
    "    if analysis.sentiment[0]>0:\n",
    "        return 'Positive'\n",
    "    else:\n",
    "        return 'Negative'\n",
    "    \n",
    "    \n",
    "#calculate sentiment and save to csv file\n",
    "with open('D:/demonetisation_analysis.csv','wb') as tweet_file:\n",
    "    tweet_file.write('Tweet,Sentiment_Label\\n') #adds column name\n",
    "    for tweet in tweets:\n",
    "        analysis=TextBlob(tweet.text) #calculates sentiment\n",
    "        out=csv.writer(tweet_file,delimiter=',',quoting=csv.QUOTE_ALL)  #\n",
    "        sentiment=getSentiment(analysis)  #to find sentiment lable\n",
    "        data=[tweet.text.encode('utf8'),sentiment] #list of tweet and sentiment\n",
    "        out.writerow(data)  #writes data to csv file"
   ]
  },
  {
   "cell_type": "code",
   "execution_count": null,
   "metadata": {
    "collapsed": true
   },
   "outputs": [],
   "source": []
  }
 ],
 "metadata": {
  "anaconda-cloud": {},
  "kernelspec": {
   "display_name": "Python [conda root]",
   "language": "python",
   "name": "conda-root-py"
  },
  "language_info": {
   "codemirror_mode": {
    "name": "ipython",
    "version": 2
   },
   "file_extension": ".py",
   "mimetype": "text/x-python",
   "name": "python",
   "nbconvert_exporter": "python",
   "pygments_lexer": "ipython2",
   "version": "2.7.12"
  }
 },
 "nbformat": 4,
 "nbformat_minor": 1
}
